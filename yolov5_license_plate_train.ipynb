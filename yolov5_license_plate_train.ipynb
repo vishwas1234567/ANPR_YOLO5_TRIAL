{
 "nbformat": 4,
 "nbformat_minor": 2,
 "metadata": {
  "colab": {
   "name": "yolov5_license_plate_train.ipynb",
   "provenance": [],
   "authorship_tag": "ABX9TyO0DRC+FWVOOq7xzVWgu23p",
   "include_colab_link": true
  },
  "kernelspec": {
   "name": "python3",
   "display_name": "Python 3.9.7 64-bit"
  },
  "accelerator": "GPU",
  "language_info": {
   "name": "python",
   "version": "3.9.7"
  },
  "interpreter": {
   "hash": "27f3d932288ddc4e2df29eb33ea5bae86f1181ac232c10f08214116c8905c8d0"
  }
 },
 "cells": [
  {
   "cell_type": "markdown",
   "source": [],
   "metadata": {
    "id": "view-in-github",
    "colab_type": "text"
   }
  },
  {
   "cell_type": "code",
   "execution_count": null,
   "source": [
    "!git clone https://github.com/vishwas1234567/ANPR_YOLOV5_TRIAL"
   ],
   "outputs": [],
   "metadata": {}
  },
  {
   "cell_type": "code",
   "execution_count": null,
   "source": [
    "!pip install -U -r /content/ANPR_YOLOV5_TRIAL/requirements.txt"
   ],
   "outputs": [],
   "metadata": {}
  },
  {
   "cell_type": "code",
   "execution_count": null,
   "source": [
    "!python /content/ANPR_YOLOV5_TRIAL/train.py --img 640 --batch 8 --epochs 100 --data /content/ANPR_YOLOV5_TRIAL/data/license_plate.yaml --cfg /content/ANPR_YOLOV5_TRIAL/models/yolov5s.yaml --weights '' --device 0"
   ],
   "outputs": [],
   "metadata": {
    "id": "PL5A90EGfKVX",
    "colab_type": "code",
    "colab": {}
   }
  }
 ]
}