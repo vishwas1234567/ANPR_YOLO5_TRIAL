{
  "nbformat": 4,
  "nbformat_minor": 2,
  "metadata": {
    "colab": {
      "name": "anpr_test.ipynb",
      "provenance": [],
      "authorship_tag": "ABX9TyNvu8ZgJCMkMEkHvVyXccom",
      "include_colab_link": true
    },
    "kernelspec": {
      "name": "python3",
      "display_name": "Python 3"
    },
    "accelerator": "GPU"
  },
  "cells": [
    {
      "cell_type": "code",
      "execution_count": null,
      "source": [
        "!git clone https://github.com/vishwas1234567/ANPR_YOLOV5_TRIAL\r\n",
        "!cd /content/ANPR_YOLOV5_TRIAL"
      ],
      "outputs": [],
      "metadata": {}
    },
    {
      "cell_type": "code",
      "execution_count": null,
      "source": [
        "!python detect.py --source sample_cars/  --weights weights/last.pt --conf 0.4"
      ],
      "outputs": [],
      "metadata": {}
    },
    {
      "cell_type": "code",
      "execution_count": 6,
      "source": [
        "from google.colab import files"
      ],
      "outputs": [],
      "metadata": {
        "id": "XgFUqu763UZV",
        "colab_type": "code",
        "colab": {}
      }
    },
    {
      "cell_type": "code",
      "execution_count": 8,
      "source": [
        "for img in os.listdir('/content/inference/output'):\r\n",
        "  path = os.path.join('/content/inference/output',img)\r\n",
        "  files.download(path)\r\n"
      ],
      "outputs": [],
      "metadata": {
        "id": "zLPbYGPe28zs",
        "colab_type": "code",
        "colab": {}
      }
    },
    {
      "cell_type": "code",
      "execution_count": null,
      "source": [],
      "outputs": [],
      "metadata": {
        "id": "XtKseOqV3ZnI",
        "colab_type": "code",
        "colab": {}
      }
    }
  ]
}